{
 "cells": [
  {
   "cell_type": "code",
   "execution_count": null,
   "metadata": {},
   "outputs": [],
   "source": [
    "import sys\n",
    "sys.path.append(\"..\")\n",
    "\n",
    "from src.evaluation import evaluate_outputs\n",
    "import pandas as pd\n",
    "import re"
   ]
  },
  {
   "cell_type": "code",
   "execution_count": null,
   "metadata": {},
   "outputs": [],
   "source": [
    "models = [\n",
    "    'gemma-3-27b-it',\n",
    "    'Qwen2.5-72B-Instruct',\n",
    "    'Llama-3.3-70B-Instruct',\n",
    "    'Qwen3-8B',\n",
    "    'Qwen3-32B',\n",
    "]\n",
    "\n",
    "techniques = [\n",
    "    'zero-shot',\n",
    "    'translated-zero-shot',\n",
    "    'fewshot_1',\n",
    "    'fewshot_2',\n",
    "    'fewshot_5',\n",
    "    'fewshot_10',\n",
    "    'filtered_fewshot_1',\n",
    "    'filtered_fewshot_2',\n",
    "    'filtered_fewshot_5',\n",
    "    'filtered_fewshot_10',\n",
    "    'translated-fewshot_1',\n",
    "    'translated-fewshot_2',\n",
    "    'translated-fewshot_5',\n",
    "    'translated-fewshot_10',\n",
    "    'translated-filtered_fewshot_1',\n",
    "    'translated-filtered_fewshot_2',\n",
    "    'translated-filtered_fewshot_5',\n",
    "    'translated-filtered_fewshot_10', \n",
    "]\n",
    "\n",
    "\n",
    "languages = [\n",
    "    'ara',\n",
    "    'deu',\n",
    "    'eng',\n",
    "    'fra',\n",
    "    'hi',\n",
    "    'mr',\n",
    "    'msa',\n",
    "    'pa',\n",
    "    'pol',\n",
    "    'por',\n",
    "    'spa',\n",
    "    'ta',\n",
    "    'tha'\n",
    "]"
   ]
  },
  {
   "cell_type": "code",
   "execution_count": null,
   "metadata": {
    "scrolled": true
   },
   "outputs": [],
   "source": [
    "results_df = pd.DataFrame(columns=['model', 'technique'] + languages)\n",
    "\n",
    "for model in models:\n",
    "    for technique in techniques:\n",
    "        results_df = pd.concat([results_df, pd.DataFrame(\n",
    "            columns=['model', 'technique'] + languages,\n",
    "            data=[[model, technique] + [None] * len(languages)]\n",
    "        )])\n",
    "        for language in languages:\n",
    "            try:\n",
    "                df = pd.read_csv(f'../results/{model}/{technique}/dev-{language}_generated.csv')\n",
    "            except:\n",
    "                results_df.loc[\n",
    "                    (results_df['model'] == model) & (results_df['technique'] == technique),\n",
    "                    language\n",
    "                ] = None\n",
    "                continue\n",
    "            \n",
    "            generated_outputs = df['generated_output'].tolist()\n",
    "            \n",
    "            metrics = evaluate_outputs(\n",
    "                generated_outputs,\n",
    "                df['normalized claim'].tolist()\n",
    "            )\n",
    "            meteor = metrics['meteor']\n",
    "            \n",
    "            results_df.loc[\n",
    "                (results_df['model'] == model) & (results_df['technique'] == technique),\n",
    "                language\n",
    "            ] = meteor"
   ]
  },
  {
   "cell_type": "code",
   "execution_count": null,
   "metadata": {},
   "outputs": [],
   "source": [
    "results_df['average'] = results_df[languages].mean(axis=1)"
   ]
  },
  {
   "cell_type": "code",
   "execution_count": null,
   "metadata": {},
   "outputs": [],
   "source": [
    "results_df"
   ]
  },
  {
   "cell_type": "code",
   "execution_count": null,
   "metadata": {},
   "outputs": [],
   "source": [
    "print(results_df[['model', 'technique'] + languages + ['average']].to_latex(index=False, float_format=\"{:.3f}\".format))"
   ]
  }
 ],
 "metadata": {
  "kernelspec": {
   "display_name": "Python [conda env:clef]",
   "language": "python",
   "name": "conda-env-clef-py"
  },
  "language_info": {
   "codemirror_mode": {
    "name": "ipython",
    "version": 3
   },
   "file_extension": ".py",
   "mimetype": "text/x-python",
   "name": "python",
   "nbconvert_exporter": "python",
   "pygments_lexer": "ipython3",
   "version": "3.12.9"
  }
 },
 "nbformat": 4,
 "nbformat_minor": 4
}
