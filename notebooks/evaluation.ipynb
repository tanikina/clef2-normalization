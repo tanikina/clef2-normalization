{
 "cells": [
  {
   "cell_type": "code",
   "execution_count": null,
   "metadata": {},
   "outputs": [],
   "source": [
    "import sys\n",
    "sys.path.append(\"..\")\n",
    "\n",
    "from src.evaluation import evaluate_outputs\n",
    "import pandas as pd"
   ]
  },
  {
   "cell_type": "code",
   "execution_count": null,
   "metadata": {},
   "outputs": [],
   "source": [
    "models = [\n",
    " 'gemma-3-1b-it',\n",
    " 'gemma-3-4b-it',\n",
    " 'Llama-3.1-8B-Instruct',\n",
    " 'Qwen2.5-7B-Instruct',\n",
    "]\n",
    "\n",
    "techniques = [\n",
    "    'chatgpt_template'\n",
    "]\n",
    "\n",
    "languages = [\n",
    "    'ara',\n",
    "    'deu',\n",
    "    'eng',\n",
    "    'fra',\n",
    "    'hi',\n",
    "    'mr',\n",
    "    'msa',\n",
    "    'pa',\n",
    "    'pol',\n",
    "    'por',\n",
    "    'spa',\n",
    "    'ta',\n",
    "    'tha'\n",
    "]"
   ]
  },
  {
   "cell_type": "code",
   "execution_count": null,
   "metadata": {},
   "outputs": [],
   "source": [
    "results_df = pd.DataFrame(columns=['model', 'technique'] + languages)\n",
    "\n",
    "for model in models:\n",
    "    for technique in techniques:\n",
    "        results_df = pd.concat([results_df, pd.DataFrame(\n",
    "            columns=['model', 'technique'] + languages,\n",
    "            data=[[model, technique] + [None] * len(languages)]\n",
    "        )])\n",
    "        for language in languages:\n",
    "            df = pd.read_csv(f'../results/{model}/{technique}/train-{language}_generated.csv')\n",
    "            \n",
    "            metrics = evaluate_outputs(\n",
    "                df['generated_output'].tolist(),\n",
    "                df['normalized claim'].tolist()\n",
    "            )\n",
    "            meteor = metrics['meteor']\n",
    "            \n",
    "            results_df.loc[\n",
    "                (results_df['model'] == model) & (results_df['technique'] == technique),\n",
    "                language\n",
    "            ] = meteor"
   ]
  },
  {
   "cell_type": "code",
   "execution_count": null,
   "metadata": {},
   "outputs": [],
   "source": [
    "print(results_df[results_df['model'] != 'gemma-3-1b-it'][['model'] + languages].to_markdown(\n",
    "    index=False,\n",
    "    tablefmt='github',\n",
    "    floatfmt=\".3f\",\n",
    "))"
   ]
  },
  {
   "cell_type": "code",
   "execution_count": null,
   "metadata": {},
   "outputs": [],
   "source": []
  }
 ],
 "metadata": {
  "kernelspec": {
   "display_name": "clef",
   "language": "python",
   "name": "python3"
  },
  "language_info": {
   "codemirror_mode": {
    "name": "ipython",
    "version": 3
   },
   "file_extension": ".py",
   "mimetype": "text/x-python",
   "name": "python",
   "nbconvert_exporter": "python",
   "pygments_lexer": "ipython3",
   "version": "3.12.9"
  }
 },
 "nbformat": 4,
 "nbformat_minor": 4
}
