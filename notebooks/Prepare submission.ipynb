{
 "cells": [
  {
   "cell_type": "code",
   "execution_count": 3,
   "metadata": {},
   "outputs": [],
   "source": [
    "import pandas as pd\n",
    "import os\n",
    "from zipfile import ZipFile"
   ]
  },
  {
   "cell_type": "code",
   "execution_count": 4,
   "metadata": {},
   "outputs": [],
   "source": [
    "models = [\n",
    "    'gemma-3-27b-it',\n",
    "    'Qwen3-8B',\n",
    "    'Qwen2.5-72B-Instruct',\n",
    "    'Qwen3-32B',\n",
    "    'Llama-3.3-70B-Instruct',\n",
    "]\n",
    "\n",
    "techniques = [\n",
    "    'zero-shot',\n",
    "    'translated-zero-shot',\n",
    "    'fewshot_1',\n",
    "    'fewshot_2',\n",
    "    'fewshot_5',\n",
    "    'fewshot_10',\n",
    "    'filtered_fewshot_1',\n",
    "    'filtered_fewshot_2',\n",
    "    'filtered_fewshot_5',\n",
    "    'filtered_fewshot_10',\n",
    "    'translated-fewshot_1',\n",
    "    'translated-fewshot_2',\n",
    "    'translated-fewshot_5',\n",
    "    'translated-fewshot_10',\n",
    "    'translated-filtered_fewshot_1',\n",
    "    'translated-filtered_fewshot_2',\n",
    "    'translated-filtered_fewshot_5',\n",
    "    'translated-filtered_fewshot_10',\n",
    "]\n",
    "\n",
    "languages= [\n",
    "    'bn',\n",
    "    'ces',\n",
    "    'ell',\n",
    "    'kor',\n",
    "    'nld',\n",
    "    'ron',\n",
    "    'te',\n",
    "]\n",
    "\n",
    "base_path = '../results/'"
   ]
  },
  {
   "cell_type": "code",
   "execution_count": 5,
   "metadata": {},
   "outputs": [],
   "source": [
    "for model in models:\n",
    "    for technique in techniques:\n",
    "        for language in languages:\n",
    "            df = pd.read_csv(os.path.join(base_path, model, technique, f'test-{language}_generated.csv'))\n",
    "            df.rename(columns={'generated_output': 'normalized claim'}, inplace=True)\n",
    "            \n",
    "            os.makedirs(os.path.join('./final_results', model, technique), exist_ok=True)\n",
    "            os.makedirs(os.path.join('./final_results', f'{model}-zip', technique), exist_ok=True)\n",
    "            \n",
    "            df[['post', 'normalized claim']].to_csv(\n",
    "                os.path.join('./final_results', model, technique, f'task2_{language}.csv'),\n",
    "                index=False,\n",
    "            )\n",
    "            \n",
    "            with ZipFile(os.path.join('./final_results', f'{model}-zip', technique, f'task2_{language}.zip'), 'w') as myzip:\n",
    "                myzip.write(\n",
    "                    os.path.join('./final_results', f'{model}', technique, f'task2_{language}.csv'),\n",
    "                    arcname=f'task2_{language}.csv'\n",
    "                )"
   ]
  }
 ],
 "metadata": {
  "kernelspec": {
   "display_name": "clef",
   "language": "python",
   "name": "python3"
  },
  "language_info": {
   "codemirror_mode": {
    "name": "ipython",
    "version": 3
   },
   "file_extension": ".py",
   "mimetype": "text/x-python",
   "name": "python",
   "nbconvert_exporter": "python",
   "pygments_lexer": "ipython3",
   "version": "3.12.9"
  }
 },
 "nbformat": 4,
 "nbformat_minor": 2
}
